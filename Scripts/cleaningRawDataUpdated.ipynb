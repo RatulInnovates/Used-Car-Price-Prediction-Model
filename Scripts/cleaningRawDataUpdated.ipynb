{
 "cells": [
  {
   "cell_type": "code",
   "execution_count": 1,
   "id": "199dfdd2",
   "metadata": {},
   "outputs": [],
   "source": [
    "import pandas as pd\n",
    "import numpy as np"
   ]
  },
  {
   "cell_type": "code",
   "execution_count": 2,
   "id": "ea522160",
   "metadata": {},
   "outputs": [],
   "source": [
    "raw_data = pd.read_csv(\"../Data/raw_data.csv\")"
   ]
  },
  {
   "cell_type": "code",
   "execution_count": 3,
   "id": "93df6ff0",
   "metadata": {},
   "outputs": [
    {
     "data": {
      "text/html": [
       "<div>\n",
       "<style scoped>\n",
       "    .dataframe tbody tr th:only-of-type {\n",
       "        vertical-align: middle;\n",
       "    }\n",
       "\n",
       "    .dataframe tbody tr th {\n",
       "        vertical-align: top;\n",
       "    }\n",
       "\n",
       "    .dataframe thead th {\n",
       "        text-align: right;\n",
       "    }\n",
       "</style>\n",
       "<table border=\"1\" class=\"dataframe\">\n",
       "  <thead>\n",
       "    <tr style=\"text-align: right;\">\n",
       "      <th></th>\n",
       "      <th>price</th>\n",
       "      <th>brand</th>\n",
       "      <th>model</th>\n",
       "      <th>year</th>\n",
       "      <th>condition</th>\n",
       "      <th>transmission</th>\n",
       "      <th>fuel_type</th>\n",
       "      <th>kilometers_run</th>\n",
       "    </tr>\n",
       "  </thead>\n",
       "  <tbody>\n",
       "    <tr>\n",
       "      <th>0</th>\n",
       "      <td>2450000</td>\n",
       "      <td>toyota</td>\n",
       "      <td>fielder</td>\n",
       "      <td>2020</td>\n",
       "      <td>reconditioned</td>\n",
       "      <td>automatic</td>\n",
       "      <td>hybrid</td>\n",
       "      <td>86000</td>\n",
       "    </tr>\n",
       "    <tr>\n",
       "      <th>1</th>\n",
       "      <td>4500000</td>\n",
       "      <td>toyota</td>\n",
       "      <td>noah</td>\n",
       "      <td>2020</td>\n",
       "      <td>reconditioned</td>\n",
       "      <td>automatic</td>\n",
       "      <td>octane</td>\n",
       "      <td>68000</td>\n",
       "    </tr>\n",
       "    <tr>\n",
       "      <th>2</th>\n",
       "      <td>2750000</td>\n",
       "      <td>honda</td>\n",
       "      <td>cr-v</td>\n",
       "      <td>2012</td>\n",
       "      <td>used</td>\n",
       "      <td>automatic</td>\n",
       "      <td>octane</td>\n",
       "      <td>92000</td>\n",
       "    </tr>\n",
       "    <tr>\n",
       "      <th>3</th>\n",
       "      <td>1800000</td>\n",
       "      <td>toyota</td>\n",
       "      <td>hilux</td>\n",
       "      <td>2009</td>\n",
       "      <td>used</td>\n",
       "      <td>manual</td>\n",
       "      <td>diesel</td>\n",
       "      <td>1</td>\n",
       "    </tr>\n",
       "    <tr>\n",
       "      <th>4</th>\n",
       "      <td>1350000</td>\n",
       "      <td>toyota</td>\n",
       "      <td>passo</td>\n",
       "      <td>2010</td>\n",
       "      <td>used</td>\n",
       "      <td>automatic</td>\n",
       "      <td>octane, lpg</td>\n",
       "      <td>87369</td>\n",
       "    </tr>\n",
       "  </tbody>\n",
       "</table>\n",
       "</div>"
      ],
      "text/plain": [
       "     price   brand    model  year      condition transmission    fuel_type  \\\n",
       "0  2450000  toyota  fielder  2020  reconditioned    automatic       hybrid   \n",
       "1  4500000  toyota     noah  2020  reconditioned    automatic       octane   \n",
       "2  2750000   honda     cr-v  2012           used    automatic       octane   \n",
       "3  1800000  toyota    hilux  2009           used       manual       diesel   \n",
       "4  1350000  toyota    passo  2010           used    automatic  octane, lpg   \n",
       "\n",
       "   kilometers_run  \n",
       "0           86000  \n",
       "1           68000  \n",
       "2           92000  \n",
       "3               1  \n",
       "4           87369  "
      ]
     },
     "execution_count": 3,
     "metadata": {},
     "output_type": "execute_result"
    }
   ],
   "source": [
    "#remove duplicates\n",
    "raw_data=raw_data.drop_duplicates()\n",
    "#remove link column\n",
    "raw_data=raw_data.drop(columns={'cars'})\n",
    "\n",
    "# remove other model from model type column\n",
    "raw_data['model'] = raw_data['model'].str.replace(\"Other Model\", \"NaN\")\n",
    "\n",
    "# remove other fuel type from fuel type column\n",
    "raw_data['fuel_type'] = raw_data['fuel_type'].str.replace(r'(, )?Other fuel type', '', regex=True)\n",
    "\n",
    "#remove \"TK\" from price values\n",
    "raw_data['price']=raw_data['price'].str.lstrip(\"T\")\n",
    "raw_data['price']=raw_data['price'].str.lstrip(\"k\")\n",
    "raw_data['price']=raw_data['price'].str.replace(\",\",\"\")\n",
    "#covert price to int\n",
    "raw_data['price']=raw_data['price'].astype('int64')\n",
    "\n",
    "#convert brand,model, condition, transmission, fuel type values to lower letters\n",
    "raw_data['brand']=raw_data['brand'].str.lower()\n",
    "raw_data['condition']=raw_data['condition'].str.lower()\n",
    "raw_data['transmission']=raw_data['transmission'].str.lower()\n",
    "raw_data['fuel_type']=raw_data['fuel_type'].str.lower()\n",
    "raw_data['model']=raw_data['model'].str.lower()\n",
    "\n",
    "#remove \"km\" from km run\n",
    "raw_data['kilometers_run']=raw_data['kilometers_run'].str.replace(\" \",\"\")\n",
    "raw_data['kilometers_run']=raw_data['kilometers_run'].str.rstrip(\"m\")\n",
    "raw_data['kilometers_run']=raw_data['kilometers_run'].str.rstrip(\"k\")\n",
    "\n",
    "#remove comma and convert to int\n",
    "raw_data['kilometers_run']=raw_data['kilometers_run'].str.replace(\",\",\"\")\n",
    "raw_data['kilometers_run']=raw_data['kilometers_run'].astype('int64')\n",
    "\n",
    "# print(type(raw_data['year'][0]))\n",
    "raw_data.head()"
   ]
  },
  {
   "cell_type": "code",
   "execution_count": 4,
   "id": "4080ce10",
   "metadata": {},
   "outputs": [
    {
     "data": {
      "text/plain": [
       "(3211, 8)"
      ]
     },
     "execution_count": 4,
     "metadata": {},
     "output_type": "execute_result"
    }
   ],
   "source": [
    "# converting the \"NaN\" strings as actual np.nan \n",
    "raw_data.replace(\"NaN\",np.nan, inplace=True)\n",
    "raw_data.replace('nan',np.nan,inplace=True)\n",
    "raw_data.dropna(inplace=True)\n",
    "\n",
    "# deleting new cars\n",
    "raw_data = raw_data[raw_data['condition'] != 'new']\n",
    "raw_data.shape"
   ]
  },
  {
   "cell_type": "code",
   "execution_count": 5,
   "id": "3484f625",
   "metadata": {},
   "outputs": [
    {
     "data": {
      "text/plain": [
       "(3211, 8)"
      ]
     },
     "execution_count": 5,
     "metadata": {},
     "output_type": "execute_result"
    }
   ],
   "source": [
    "# create a new csv file with the cleaned data\n",
    "raw_data.to_csv(\"../Data/cleaned_data_updated.csv\", index=False) # remove index from the csv file\n",
    "raw_data.shape"
   ]
  }
 ],
 "metadata": {
  "kernelspec": {
   "display_name": "Python 3",
   "language": "python",
   "name": "python3"
  },
  "language_info": {
   "codemirror_mode": {
    "name": "ipython",
    "version": 3
   },
   "file_extension": ".py",
   "mimetype": "text/x-python",
   "name": "python",
   "nbconvert_exporter": "python",
   "pygments_lexer": "ipython3",
   "version": "3.13.5"
  }
 },
 "nbformat": 4,
 "nbformat_minor": 5
}
