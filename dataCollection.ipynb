{
 "cells": [
  {
   "cell_type": "markdown",
   "id": "0063ac2b",
   "metadata": {},
   "source": [
    "####Cho"
   ]
  },
  {
   "cell_type": "code",
   "execution_count": null,
   "id": "978aa853",
   "metadata": {},
   "outputs": [],
   "source": []
  },
  {
   "cell_type": "code",
   "execution_count": null,
   "id": "21b19aab",
   "metadata": {},
   "outputs": [],
   "source": []
  },
  {
   "cell_type": "code",
   "execution_count": null,
   "id": "5f1b5515",
   "metadata": {},
   "outputs": [],
   "source": []
  }
 ],
 "metadata": {
  "kernelspec": {
   "display_name": "base",
   "language": "python",
   "name": "python3"
  },
  "language_info": {
   "name": "python",
   "version": "3.11.5"
  }
 },
 "nbformat": 4,
 "nbformat_minor": 5
}
