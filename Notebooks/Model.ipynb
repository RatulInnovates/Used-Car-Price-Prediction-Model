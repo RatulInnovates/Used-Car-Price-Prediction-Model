{
 "cells": [
  {
   "cell_type": "code",
   "execution_count": 1,
   "id": "6d9a867d",
   "metadata": {},
   "outputs": [],
   "source": [
    "import pandas as pd\n",
    "import numpy as np\n",
    "import matplotlib.pyplot as plt\n",
    "import seaborn as sns\n",
    "\n",
    "from sklearn.model_selection import train_test_split\n",
    "from sklearn.preprocessing import OneHotEncoder, StandardScaler\n",
    "from sklearn.compose import ColumnTransformer\n",
    "from sklearn.pipeline import Pipeline\n",
    "from sklearn.linear_model import LinearRegression, Ridge, Lasso\n",
    "from sklearn.ensemble import RandomForestRegressor, GradientBoostingRegressor\n",
    "from sklearn.metrics import mean_absolute_error, mean_squared_error, r2_score\n",
    "\n",
    "import joblib"
   ]
  },
  {
   "cell_type": "code",
   "execution_count": 2,
   "id": "45b7cc02",
   "metadata": {},
   "outputs": [
    {
     "data": {
      "text/html": [
       "<div>\n",
       "<style scoped>\n",
       "    .dataframe tbody tr th:only-of-type {\n",
       "        vertical-align: middle;\n",
       "    }\n",
       "\n",
       "    .dataframe tbody tr th {\n",
       "        vertical-align: top;\n",
       "    }\n",
       "\n",
       "    .dataframe thead th {\n",
       "        text-align: right;\n",
       "    }\n",
       "</style>\n",
       "<table border=\"1\" class=\"dataframe\">\n",
       "  <thead>\n",
       "    <tr style=\"text-align: right;\">\n",
       "      <th></th>\n",
       "      <th>price</th>\n",
       "      <th>brand</th>\n",
       "      <th>model</th>\n",
       "      <th>year</th>\n",
       "      <th>condition</th>\n",
       "      <th>transmission</th>\n",
       "      <th>fuel_type</th>\n",
       "      <th>kilometers_run</th>\n",
       "      <th>age</th>\n",
       "      <th>km_per_year</th>\n",
       "    </tr>\n",
       "  </thead>\n",
       "  <tbody>\n",
       "    <tr>\n",
       "      <th>0</th>\n",
       "      <td>2450000</td>\n",
       "      <td>toyota</td>\n",
       "      <td>fielder</td>\n",
       "      <td>2020</td>\n",
       "      <td>reconditioned</td>\n",
       "      <td>automatic</td>\n",
       "      <td>hybrid</td>\n",
       "      <td>86000</td>\n",
       "      <td>5</td>\n",
       "      <td>17200.000000</td>\n",
       "    </tr>\n",
       "    <tr>\n",
       "      <th>1</th>\n",
       "      <td>4500000</td>\n",
       "      <td>toyota</td>\n",
       "      <td>noah</td>\n",
       "      <td>2020</td>\n",
       "      <td>reconditioned</td>\n",
       "      <td>automatic</td>\n",
       "      <td>octane</td>\n",
       "      <td>68000</td>\n",
       "      <td>5</td>\n",
       "      <td>13600.000000</td>\n",
       "    </tr>\n",
       "    <tr>\n",
       "      <th>2</th>\n",
       "      <td>2750000</td>\n",
       "      <td>honda</td>\n",
       "      <td>cr-v</td>\n",
       "      <td>2012</td>\n",
       "      <td>used</td>\n",
       "      <td>automatic</td>\n",
       "      <td>octane</td>\n",
       "      <td>92000</td>\n",
       "      <td>13</td>\n",
       "      <td>7076.923077</td>\n",
       "    </tr>\n",
       "    <tr>\n",
       "      <th>3</th>\n",
       "      <td>1350000</td>\n",
       "      <td>toyota</td>\n",
       "      <td>passo</td>\n",
       "      <td>2010</td>\n",
       "      <td>used</td>\n",
       "      <td>automatic</td>\n",
       "      <td>octane, lpg</td>\n",
       "      <td>87369</td>\n",
       "      <td>15</td>\n",
       "      <td>5824.600000</td>\n",
       "    </tr>\n",
       "    <tr>\n",
       "      <th>4</th>\n",
       "      <td>1760000</td>\n",
       "      <td>toyota</td>\n",
       "      <td>axio</td>\n",
       "      <td>2016</td>\n",
       "      <td>used</td>\n",
       "      <td>automatic</td>\n",
       "      <td>hybrid, octane</td>\n",
       "      <td>66000</td>\n",
       "      <td>9</td>\n",
       "      <td>7333.333333</td>\n",
       "    </tr>\n",
       "  </tbody>\n",
       "</table>\n",
       "</div>"
      ],
      "text/plain": [
       "     price   brand    model  year      condition transmission       fuel_type  \\\n",
       "0  2450000  toyota  fielder  2020  reconditioned    automatic          hybrid   \n",
       "1  4500000  toyota     noah  2020  reconditioned    automatic          octane   \n",
       "2  2750000   honda     cr-v  2012           used    automatic          octane   \n",
       "3  1350000  toyota    passo  2010           used    automatic     octane, lpg   \n",
       "4  1760000  toyota     axio  2016           used    automatic  hybrid, octane   \n",
       "\n",
       "   kilometers_run  age   km_per_year  \n",
       "0           86000    5  17200.000000  \n",
       "1           68000    5  13600.000000  \n",
       "2           92000   13   7076.923077  \n",
       "3           87369   15   5824.600000  \n",
       "4           66000    9   7333.333333  "
      ]
     },
     "execution_count": 2,
     "metadata": {},
     "output_type": "execute_result"
    }
   ],
   "source": [
    "cars = pd.read_csv('../Data/cleaned_data_updated.csv')\n",
    "cars.head()"
   ]
  },
  {
   "cell_type": "code",
   "execution_count": 3,
   "id": "f1ce1a48",
   "metadata": {},
   "outputs": [],
   "source": [
    "target = 'price'\n",
    "neumeric_feature = ['year', 'kilometers_run', 'age', 'km_per_year']\n",
    "categorical_feature = ['brand', 'model', 'condition', 'transmission', 'fuel_type']\n",
    "\n",
    "X = cars[neumeric_feature + categorical_feature]\n",
    "y = cars[target]"
   ]
  },
  {
   "cell_type": "code",
   "execution_count": 4,
   "id": "5e1b9d07",
   "metadata": {},
   "outputs": [
    {
     "name": "stdout",
     "output_type": "stream",
     "text": [
      "Train shape: (2308, 9), Test shape: (578, 9)\n"
     ]
    }
   ],
   "source": [
    "# Train-Test Split\n",
    "X_train, X_test, y_train, y_test = train_test_split(X, y, test_size=0.2, random_state=42)\n",
    "print(f\"Train shape: {X_train.shape}, Test shape: {X_test.shape}\")"
   ]
  },
  {
   "cell_type": "code",
   "execution_count": 5,
   "id": "8c1fdeef",
   "metadata": {},
   "outputs": [
    {
     "data": {
      "text/plain": [
       "year              0\n",
       "kilometers_run    0\n",
       "age               0\n",
       "km_per_year       0\n",
       "brand             0\n",
       "model             0\n",
       "condition         0\n",
       "transmission      0\n",
       "fuel_type         0\n",
       "dtype: int64"
      ]
     },
     "execution_count": 5,
     "metadata": {},
     "output_type": "execute_result"
    }
   ],
   "source": [
    "X_train.isna().sum()"
   ]
  },
  {
   "cell_type": "code",
   "execution_count": 6,
   "id": "8635e4cf",
   "metadata": {},
   "outputs": [],
   "source": [
    "# make sure y_train and y_test matches\n",
    "X_train = X_train.dropna()\n",
    "y_train = y_train[X_train.index]  \n",
    "\n",
    "X_test = X_test.dropna()\n",
    "y_test = y_test[X_test.index]"
   ]
  },
  {
   "cell_type": "code",
   "execution_count": 7,
   "id": "9e2b3226",
   "metadata": {},
   "outputs": [],
   "source": [
    "preprocessor = ColumnTransformer(transformers=[\n",
    "    ('num', StandardScaler(), neumeric_feature),\n",
    "    ('cat', OneHotEncoder(handle_unknown='ignore'), categorical_feature)\n",
    "])"
   ]
  },
  {
   "cell_type": "code",
   "execution_count": 8,
   "id": "652954bf",
   "metadata": {},
   "outputs": [],
   "source": [
    "models = {\n",
    "    \"LinearRegression\": LinearRegression(),\n",
    "    \"Ridge\": Ridge(alpha=1.0),\n",
    "    \"Lasso\": Lasso(alpha=0.01),\n",
    "    \"RandomForest\": RandomForestRegressor(n_estimators=100, random_state=42),\n",
    "    \"GradientBoosting\": GradientBoostingRegressor(n_estimators=100, learning_rate=0.1, random_state=42)\n",
    "}"
   ]
  },
  {
   "cell_type": "code",
   "execution_count": 9,
   "id": "9a61b4af",
   "metadata": {},
   "outputs": [
    {
     "name": "stdout",
     "output_type": "stream",
     "text": [
      "\n",
      "Training LinearRegression...\n",
      "LinearRegression -> MAE: 284640.19, RMSE: 397913.69, R2: 0.827\n",
      "\n",
      "Training Ridge...\n",
      "Ridge -> MAE: 289152.26, RMSE: 398364.72, R2: 0.827\n",
      "\n",
      "Training Lasso...\n"
     ]
    },
    {
     "name": "stderr",
     "output_type": "stream",
     "text": [
      "d:\\Python\\project\\Used-Car-Price-Prediction-Model\\venv\\Lib\\site-packages\\sklearn\\linear_model\\_coordinate_descent.py:656: ConvergenceWarning: Objective did not converge. You might want to increase the number of iterations, check the scale of the features or consider increasing regularisation. Duality gap: 1.168e+14, tolerance: 2.128e+11\n",
      "  model = cd_fast.sparse_enet_coordinate_descent(\n"
     ]
    },
    {
     "name": "stdout",
     "output_type": "stream",
     "text": [
      "Lasso -> MAE: 285341.39, RMSE: 401393.75, R2: 0.824\n",
      "\n",
      "Training RandomForest...\n",
      "RandomForest -> MAE: 244285.58, RMSE: 387915.23, R2: 0.836\n",
      "\n",
      "Training GradientBoosting...\n",
      "GradientBoosting -> MAE: 275781.81, RMSE: 389844.41, R2: 0.834\n"
     ]
    }
   ],
   "source": [
    "# Train & Evaluate Models\n",
    "results = {}\n",
    "\n",
    "for name, model in models.items():\n",
    "    print(f\"\\nTraining {name}...\")\n",
    "    pipeline = Pipeline(steps=[('preprocessor', preprocessor),\n",
    "                               ('model', model)])\n",
    "    pipeline.fit(X_train, y_train)\n",
    "    y_pred = pipeline.predict(X_test)\n",
    "    \n",
    "    mae = mean_absolute_error(y_test, y_pred)\n",
    "    rmse = np.sqrt(mean_squared_error(y_test, y_pred))\n",
    "    r2 = r2_score(y_test, y_pred)\n",
    "    \n",
    "    results[name] = {\"MAE\": mae, \"RMSE\": rmse, \"R2\": r2}\n",
    "    print(f\"{name} -> MAE: {mae:.2f}, RMSE: {rmse:.2f}, R2: {r2:.3f}\")\n"
   ]
  },
  {
   "cell_type": "code",
   "execution_count": 10,
   "id": "776ec6c5",
   "metadata": {},
   "outputs": [
    {
     "name": "stdout",
     "output_type": "stream",
     "text": [
      "\n",
      "Model Comparison (sorted by RMSE):\n",
      "                            MAE           RMSE        R2\n",
      "RandomForest      244285.577192  387915.232164  0.835970\n",
      "GradientBoosting  275781.810902  389844.410319  0.834335\n",
      "LinearRegression  284640.186887  397913.694026  0.827406\n",
      "Ridge             289152.261370  398364.720871  0.827014\n",
      "Lasso             285341.386626  401393.752379  0.824373\n"
     ]
    }
   ],
   "source": [
    "# Compare Models\n",
    "results_df = pd.DataFrame(results).T.sort_values(\"RMSE\")\n",
    "print(\"\\nModel Comparison (sorted by RMSE):\")\n",
    "print(results_df)"
   ]
  },
  {
   "cell_type": "code",
   "execution_count": 11,
   "id": "28fcf258",
   "metadata": {},
   "outputs": [
    {
     "name": "stdout",
     "output_type": "stream",
     "text": [
      "\n",
      "Best model: RandomForest\n"
     ]
    },
    {
     "name": "stdout",
     "output_type": "stream",
     "text": [
      "Best model saved as 'used_car_price_model.pkl'\n"
     ]
    }
   ],
   "source": [
    "# Save Best Model\n",
    "best_model_name = results_df.index[0]\n",
    "print(f\"\\nBest model: {best_model_name}\")\n",
    "\n",
    "best_pipeline = Pipeline(steps=[('preprocessor', preprocessor),\n",
    "                                ('model', models[best_model_name])])\n",
    "best_pipeline.fit(X_train, y_train)\n",
    "\n",
    "joblib.dump(best_pipeline, \"used_car_price_model.pkl\")\n",
    "print(\"Best model saved as 'used_car_price_model.pkl'\")"
   ]
  },
  {
   "cell_type": "code",
   "execution_count": 12,
   "id": "d5a5c9d1",
   "metadata": {},
   "outputs": [
    {
     "data": {
      "text/html": [
       "<div>\n",
       "<style scoped>\n",
       "    .dataframe tbody tr th:only-of-type {\n",
       "        vertical-align: middle;\n",
       "    }\n",
       "\n",
       "    .dataframe tbody tr th {\n",
       "        vertical-align: top;\n",
       "    }\n",
       "\n",
       "    .dataframe thead th {\n",
       "        text-align: right;\n",
       "    }\n",
       "</style>\n",
       "<table border=\"1\" class=\"dataframe\">\n",
       "  <thead>\n",
       "    <tr style=\"text-align: right;\">\n",
       "      <th></th>\n",
       "      <th>price</th>\n",
       "      <th>brand</th>\n",
       "      <th>model</th>\n",
       "      <th>year</th>\n",
       "      <th>condition</th>\n",
       "      <th>transmission</th>\n",
       "      <th>fuel_type</th>\n",
       "      <th>kilometers_run</th>\n",
       "      <th>age</th>\n",
       "      <th>km_per_year</th>\n",
       "    </tr>\n",
       "  </thead>\n",
       "  <tbody>\n",
       "    <tr>\n",
       "      <th>0</th>\n",
       "      <td>2450000</td>\n",
       "      <td>toyota</td>\n",
       "      <td>fielder</td>\n",
       "      <td>2020</td>\n",
       "      <td>reconditioned</td>\n",
       "      <td>automatic</td>\n",
       "      <td>hybrid</td>\n",
       "      <td>86000</td>\n",
       "      <td>5</td>\n",
       "      <td>17200.000000</td>\n",
       "    </tr>\n",
       "    <tr>\n",
       "      <th>1</th>\n",
       "      <td>4500000</td>\n",
       "      <td>toyota</td>\n",
       "      <td>noah</td>\n",
       "      <td>2020</td>\n",
       "      <td>reconditioned</td>\n",
       "      <td>automatic</td>\n",
       "      <td>octane</td>\n",
       "      <td>68000</td>\n",
       "      <td>5</td>\n",
       "      <td>13600.000000</td>\n",
       "    </tr>\n",
       "    <tr>\n",
       "      <th>2</th>\n",
       "      <td>2750000</td>\n",
       "      <td>honda</td>\n",
       "      <td>cr-v</td>\n",
       "      <td>2012</td>\n",
       "      <td>used</td>\n",
       "      <td>automatic</td>\n",
       "      <td>octane</td>\n",
       "      <td>92000</td>\n",
       "      <td>13</td>\n",
       "      <td>7076.923077</td>\n",
       "    </tr>\n",
       "    <tr>\n",
       "      <th>3</th>\n",
       "      <td>1350000</td>\n",
       "      <td>toyota</td>\n",
       "      <td>passo</td>\n",
       "      <td>2010</td>\n",
       "      <td>used</td>\n",
       "      <td>automatic</td>\n",
       "      <td>octane, lpg</td>\n",
       "      <td>87369</td>\n",
       "      <td>15</td>\n",
       "      <td>5824.600000</td>\n",
       "    </tr>\n",
       "    <tr>\n",
       "      <th>4</th>\n",
       "      <td>1760000</td>\n",
       "      <td>toyota</td>\n",
       "      <td>axio</td>\n",
       "      <td>2016</td>\n",
       "      <td>used</td>\n",
       "      <td>automatic</td>\n",
       "      <td>hybrid, octane</td>\n",
       "      <td>66000</td>\n",
       "      <td>9</td>\n",
       "      <td>7333.333333</td>\n",
       "    </tr>\n",
       "  </tbody>\n",
       "</table>\n",
       "</div>"
      ],
      "text/plain": [
       "     price   brand    model  year      condition transmission       fuel_type  \\\n",
       "0  2450000  toyota  fielder  2020  reconditioned    automatic          hybrid   \n",
       "1  4500000  toyota     noah  2020  reconditioned    automatic          octane   \n",
       "2  2750000   honda     cr-v  2012           used    automatic          octane   \n",
       "3  1350000  toyota    passo  2010           used    automatic     octane, lpg   \n",
       "4  1760000  toyota     axio  2016           used    automatic  hybrid, octane   \n",
       "\n",
       "   kilometers_run  age   km_per_year  \n",
       "0           86000    5  17200.000000  \n",
       "1           68000    5  13600.000000  \n",
       "2           92000   13   7076.923077  \n",
       "3           87369   15   5824.600000  \n",
       "4           66000    9   7333.333333  "
      ]
     },
     "execution_count": 12,
     "metadata": {},
     "output_type": "execute_result"
    }
   ],
   "source": [
    "cars.head()"
   ]
  }
 ],
 "metadata": {
  "kernelspec": {
   "display_name": "Python 3",
   "language": "python",
   "name": "python3"
  },
  "language_info": {
   "codemirror_mode": {
    "name": "ipython",
    "version": 3
   },
   "file_extension": ".py",
   "mimetype": "text/x-python",
   "name": "python",
   "nbconvert_exporter": "python",
   "pygments_lexer": "ipython3",
   "version": "3.13.5"
  }
 },
 "nbformat": 4,
 "nbformat_minor": 5
}
